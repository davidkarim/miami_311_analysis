{
 "cells": [
  {
   "cell_type": "markdown",
   "metadata": {},
   "source": [
    "# Miami 311 Data Test"
   ]
  },
  {
   "cell_type": "markdown",
   "metadata": {},
   "source": [
    "Data exercise using Miami-Dade 311 data as source. Source can be found at https://opendata.miamidade.gov/311/311-Service-Requests-Miami-Dade-County/dj6j-qg5t"
   ]
  },
  {
   "cell_type": "code",
   "execution_count": 48,
   "metadata": {
    "collapsed": false
   },
   "outputs": [],
   "source": [
    "%matplotlib inline\n",
    "import pandas as pd\n",
    "from scipy import stats\n",
    "import numpy as np\n",
    "import matplotlib.pyplot as plt # side-stepping mpl backend\n"
   ]
  },
  {
   "cell_type": "code",
   "execution_count": 49,
   "metadata": {
    "collapsed": false
   },
   "outputs": [
    {
     "name": "stdout",
     "output_type": "stream",
     "text": [
      "311_Service_Requests-Miami.csv  Untitled.ipynb\r\n"
     ]
    }
   ],
   "source": [
    "%ls"
   ]
  },
  {
   "cell_type": "code",
   "execution_count": 50,
   "metadata": {
    "collapsed": true
   },
   "outputs": [],
   "source": [
    "dat = pd.read_csv('311_Service_Requests-Miami.csv')"
   ]
  },
  {
   "cell_type": "code",
   "execution_count": 51,
   "metadata": {
    "collapsed": false
   },
   "outputs": [
    {
     "data": {
      "text/plain": [
       "Index(['Ticket ID', 'Issue Type', 'Issue Description', 'Case Owner',\n",
       "       'Case Owner Description', 'Street Address', 'City', 'State / Province',\n",
       "       'Zip / Postal Code', 'Neighborhood / District / Ward / etc.',\n",
       "       'Created Year Month', 'Ticket Created Date / Time',\n",
       "       'Ticket Last Updated Date / Time', 'Ticket Closed Date / Time',\n",
       "       'Ticket Status', 'X Coordinate', 'Y Coordinate', 'Latitude',\n",
       "       'Longitude', 'Location Geo. Coded', 'Method Received', 'Goal Days',\n",
       "       'Actual Completed Days'],\n",
       "      dtype='object')"
      ]
     },
     "execution_count": 51,
     "metadata": {},
     "output_type": "execute_result"
    }
   ],
   "source": [
    "dat.columns"
   ]
  },
  {
   "cell_type": "code",
   "execution_count": 52,
   "metadata": {
    "collapsed": false
   },
   "outputs": [
    {
     "data": {
      "text/plain": [
       "839365"
      ]
     },
     "execution_count": 52,
     "metadata": {},
     "output_type": "execute_result"
    }
   ],
   "source": [
    "len(dat)"
   ]
  },
  {
   "cell_type": "code",
   "execution_count": 53,
   "metadata": {
    "collapsed": false
   },
   "outputs": [
    {
     "data": {
      "text/html": [
       "<div>\n",
       "<table border=\"1\" class=\"dataframe\">\n",
       "  <thead>\n",
       "    <tr style=\"text-align: right;\">\n",
       "      <th></th>\n",
       "      <th>Ticket ID</th>\n",
       "      <th>Issue Type</th>\n",
       "      <th>Issue Description</th>\n",
       "      <th>Case Owner</th>\n",
       "      <th>Case Owner Description</th>\n",
       "      <th>Street Address</th>\n",
       "      <th>City</th>\n",
       "      <th>State / Province</th>\n",
       "      <th>Zip / Postal Code</th>\n",
       "      <th>Neighborhood / District / Ward / etc.</th>\n",
       "      <th>...</th>\n",
       "      <th>Ticket Closed Date / Time</th>\n",
       "      <th>Ticket Status</th>\n",
       "      <th>X Coordinate</th>\n",
       "      <th>Y Coordinate</th>\n",
       "      <th>Latitude</th>\n",
       "      <th>Longitude</th>\n",
       "      <th>Location Geo. Coded</th>\n",
       "      <th>Method Received</th>\n",
       "      <th>Goal Days</th>\n",
       "      <th>Actual Completed Days</th>\n",
       "    </tr>\n",
       "  </thead>\n",
       "  <tbody>\n",
       "    <tr>\n",
       "      <th>0</th>\n",
       "      <td>13-00000001</td>\n",
       "      <td>ASU POLICE ASSISTANCE</td>\n",
       "      <td>NaN</td>\n",
       "      <td>Animal_Services</td>\n",
       "      <td>Animal Services</td>\n",
       "      <td>7707 SW 117TH AVE</td>\n",
       "      <td>Miami_Dade_County</td>\n",
       "      <td>Florida</td>\n",
       "      <td>33173</td>\n",
       "      <td>District 10</td>\n",
       "      <td>...</td>\n",
       "      <td>01/01/2013 12:34:18 AM</td>\n",
       "      <td>CLOSED</td>\n",
       "      <td>859632.259755</td>\n",
       "      <td>495700.415381</td>\n",
       "      <td>25.696061</td>\n",
       "      <td>-80.382117</td>\n",
       "      <td>7707 SW 117TH AVE\\nMIAMI, Florida 33173\\n(25.6...</td>\n",
       "      <td>MOBILE</td>\n",
       "      <td>1</td>\n",
       "      <td>0</td>\n",
       "    </tr>\n",
       "    <tr>\n",
       "      <th>1</th>\n",
       "      <td>13-00000002</td>\n",
       "      <td>ASU POLICE ASSISTANCE</td>\n",
       "      <td>NaN</td>\n",
       "      <td>Animal_Services</td>\n",
       "      <td>Animal Services</td>\n",
       "      <td>18800 NW 57TH AVE</td>\n",
       "      <td>Miami_Dade_County</td>\n",
       "      <td>Florida</td>\n",
       "      <td>33015</td>\n",
       "      <td>District 1</td>\n",
       "      <td>...</td>\n",
       "      <td>01/01/2013 01:46:44 AM</td>\n",
       "      <td>CLOSED</td>\n",
       "      <td>888138.472187</td>\n",
       "      <td>585887.469673</td>\n",
       "      <td>25.943794</td>\n",
       "      <td>-80.294085</td>\n",
       "      <td>18800 NW 57TH AVE\\nMIAMI, Florida 33015\\n(25.9...</td>\n",
       "      <td>MOBILE</td>\n",
       "      <td>1</td>\n",
       "      <td>0</td>\n",
       "    </tr>\n",
       "    <tr>\n",
       "      <th>2</th>\n",
       "      <td>13-00000174</td>\n",
       "      <td>CAT TRAP REQUEST</td>\n",
       "      <td>NaN</td>\n",
       "      <td>Animal_Services</td>\n",
       "      <td>Animal Services</td>\n",
       "      <td>7897 SW 12TH ST</td>\n",
       "      <td>Miami_Dade_County</td>\n",
       "      <td>Florida</td>\n",
       "      <td>33144</td>\n",
       "      <td>District 10</td>\n",
       "      <td>...</td>\n",
       "      <td>01/10/2014 01:17:19 PM</td>\n",
       "      <td>CLOSED</td>\n",
       "      <td>878585.500000</td>\n",
       "      <td>518636.436000</td>\n",
       "      <td>25.758910</td>\n",
       "      <td>-80.324207</td>\n",
       "      <td>7897 SW 12TH ST\\nMIAMI, Florida 33144\\n(25.758...</td>\n",
       "      <td>PHONE</td>\n",
       "      <td>15</td>\n",
       "      <td>374</td>\n",
       "    </tr>\n",
       "    <tr>\n",
       "      <th>3</th>\n",
       "      <td>13-00000175</td>\n",
       "      <td>PIT BULL INVESTIGATION</td>\n",
       "      <td>NaN</td>\n",
       "      <td>Animal_Services</td>\n",
       "      <td>Animal Services</td>\n",
       "      <td>2985 SW 2ND ST</td>\n",
       "      <td>City_of_Miami</td>\n",
       "      <td>Florida</td>\n",
       "      <td>33135</td>\n",
       "      <td>District 5</td>\n",
       "      <td>...</td>\n",
       "      <td>02/13/2013 12:01:38 PM</td>\n",
       "      <td>CLOSED</td>\n",
       "      <td>905190.573399</td>\n",
       "      <td>522934.268098</td>\n",
       "      <td>25.770336</td>\n",
       "      <td>-80.243301</td>\n",
       "      <td>2985 SW 2ND ST\\nMIAMI, Florida 33135\\n(25.7703...</td>\n",
       "      <td>PHONE</td>\n",
       "      <td>30</td>\n",
       "      <td>43</td>\n",
       "    </tr>\n",
       "    <tr>\n",
       "      <th>4</th>\n",
       "      <td>13-00000176</td>\n",
       "      <td>ANIMAL BITE TO A PERSON</td>\n",
       "      <td>NaN</td>\n",
       "      <td>Animal_Services</td>\n",
       "      <td>Animal Services</td>\n",
       "      <td>16630 SW 103RD PL</td>\n",
       "      <td>Miami_Dade_County</td>\n",
       "      <td>Florida</td>\n",
       "      <td>33157</td>\n",
       "      <td>District 9</td>\n",
       "      <td>...</td>\n",
       "      <td>01/10/2013 12:41:18 PM</td>\n",
       "      <td>CLOSED</td>\n",
       "      <td>866815.937500</td>\n",
       "      <td>466100.281250</td>\n",
       "      <td>25.614528</td>\n",
       "      <td>-80.360737</td>\n",
       "      <td>16630 SW 103RD PL\\nMIAMI, Florida 33157\\n(25.6...</td>\n",
       "      <td>PHONE</td>\n",
       "      <td>14</td>\n",
       "      <td>9</td>\n",
       "    </tr>\n",
       "  </tbody>\n",
       "</table>\n",
       "<p>5 rows × 23 columns</p>\n",
       "</div>"
      ],
      "text/plain": [
       "     Ticket ID               Issue Type  Issue Description       Case Owner  \\\n",
       "0  13-00000001    ASU POLICE ASSISTANCE                NaN  Animal_Services   \n",
       "1  13-00000002    ASU POLICE ASSISTANCE                NaN  Animal_Services   \n",
       "2  13-00000174         CAT TRAP REQUEST                NaN  Animal_Services   \n",
       "3  13-00000175   PIT BULL INVESTIGATION                NaN  Animal_Services   \n",
       "4  13-00000176  ANIMAL BITE TO A PERSON                NaN  Animal_Services   \n",
       "\n",
       "  Case Owner Description     Street Address               City  \\\n",
       "0        Animal Services  7707 SW 117TH AVE  Miami_Dade_County   \n",
       "1        Animal Services  18800 NW 57TH AVE  Miami_Dade_County   \n",
       "2        Animal Services    7897 SW 12TH ST  Miami_Dade_County   \n",
       "3        Animal Services     2985 SW 2ND ST      City_of_Miami   \n",
       "4        Animal Services  16630 SW 103RD PL  Miami_Dade_County   \n",
       "\n",
       "  State / Province  Zip / Postal Code Neighborhood / District / Ward / etc.  \\\n",
       "0          Florida              33173                           District 10   \n",
       "1          Florida              33015                            District 1   \n",
       "2          Florida              33144                           District 10   \n",
       "3          Florida              33135                            District 5   \n",
       "4          Florida              33157                            District 9   \n",
       "\n",
       "           ...           Ticket Closed Date / Time Ticket Status  \\\n",
       "0          ...              01/01/2013 12:34:18 AM        CLOSED   \n",
       "1          ...              01/01/2013 01:46:44 AM        CLOSED   \n",
       "2          ...              01/10/2014 01:17:19 PM        CLOSED   \n",
       "3          ...              02/13/2013 12:01:38 PM        CLOSED   \n",
       "4          ...              01/10/2013 12:41:18 PM        CLOSED   \n",
       "\n",
       "    X Coordinate   Y Coordinate   Latitude  Longitude  \\\n",
       "0  859632.259755  495700.415381  25.696061 -80.382117   \n",
       "1  888138.472187  585887.469673  25.943794 -80.294085   \n",
       "2  878585.500000  518636.436000  25.758910 -80.324207   \n",
       "3  905190.573399  522934.268098  25.770336 -80.243301   \n",
       "4  866815.937500  466100.281250  25.614528 -80.360737   \n",
       "\n",
       "                                 Location Geo. Coded  Method Received  \\\n",
       "0  7707 SW 117TH AVE\\nMIAMI, Florida 33173\\n(25.6...           MOBILE   \n",
       "1  18800 NW 57TH AVE\\nMIAMI, Florida 33015\\n(25.9...           MOBILE   \n",
       "2  7897 SW 12TH ST\\nMIAMI, Florida 33144\\n(25.758...            PHONE   \n",
       "3  2985 SW 2ND ST\\nMIAMI, Florida 33135\\n(25.7703...            PHONE   \n",
       "4  16630 SW 103RD PL\\nMIAMI, Florida 33157\\n(25.6...            PHONE   \n",
       "\n",
       "   Goal Days Actual Completed Days  \n",
       "0          1                     0  \n",
       "1          1                     0  \n",
       "2         15                   374  \n",
       "3         30                    43  \n",
       "4         14                     9  \n",
       "\n",
       "[5 rows x 23 columns]"
      ]
     },
     "execution_count": 53,
     "metadata": {},
     "output_type": "execute_result"
    }
   ],
   "source": [
    "dat.head()"
   ]
  },
  {
   "cell_type": "markdown",
   "metadata": {},
   "source": [
    "Refer to http://docs.scipy.org/doc/numpy-1.10.1/genindex.html for details on numpy library."
   ]
  },
  {
   "cell_type": "code",
   "execution_count": 64,
   "metadata": {
    "collapsed": false
   },
   "outputs": [],
   "source": [
    "t = np.arange(0, 60, 0.5) # Returns an ndarray"
   ]
  },
  {
   "cell_type": "markdown",
   "metadata": {},
   "source": [
    "### Plot actual vs. goal along with the 1:1 line to visualize performance."
   ]
  },
  {
   "cell_type": "markdown",
   "metadata": {},
   "source": [
    "Refer to http://matplotlib.org for details on plots."
   ]
  },
  {
   "cell_type": "code",
   "execution_count": 55,
   "metadata": {
    "collapsed": false
   },
   "outputs": [
    {
     "data": {
      "text/plain": [
       "<matplotlib.text.Text at 0x14d9e4240>"
      ]
     },
     "execution_count": 55,
     "metadata": {},
     "output_type": "execute_result"
    },
    {
     "data": {
      "image/png": "[encoded data removed]",
      "text/plain": [
       "<matplotlib.figure.Figure at 0x10ce39ac8>"
      ]
     },
     "metadata": {},
     "output_type": "display_data"
    }
   ],
   "source": [
    "plt.plot(dat['Goal Days'], dat['Actual Completed Days'], '.', alpha=0.1)\n",
    "plt.plot(t, t, 'r--') # Plot red dashed diagonal\n",
    "plt.xlim(0, 60)\n",
    "plt.ylim(0, 60)\n",
    "plt.title('Does 311 meet its goals?')\n",
    "plt.xlabel('Goal (Days)')\n",
    "plt.ylabel('Actual (Days)')"
   ]
  },
  {
   "cell_type": "code",
   "execution_count": 56,
   "metadata": {
    "collapsed": false
   },
   "outputs": [
    {
     "data": {
      "text/plain": [
       "Index(['Ticket ID', 'Issue Type', 'Issue Description', 'Case Owner',\n",
       "       'Case Owner Description', 'Street Address', 'City', 'State / Province',\n",
       "       'Zip / Postal Code', 'Neighborhood / District / Ward / etc.',\n",
       "       'Created Year Month', 'Ticket Created Date / Time',\n",
       "       'Ticket Last Updated Date / Time', 'Ticket Closed Date / Time',\n",
       "       'Ticket Status', 'X Coordinate', 'Y Coordinate', 'Latitude',\n",
       "       'Longitude', 'Location Geo. Coded', 'Method Received', 'Goal Days',\n",
       "       'Actual Completed Days'],\n",
       "      dtype='object')"
      ]
     },
     "execution_count": 56,
     "metadata": {},
     "output_type": "execute_result"
    }
   ],
   "source": [
    "dat.columns"
   ]
  },
  {
   "cell_type": "code",
   "execution_count": 57,
   "metadata": {
    "collapsed": true
   },
   "outputs": [],
   "source": [
    "diff = dat['Actual Completed Days'] - dat['Goal Days']"
   ]
  },
  {
   "cell_type": "code",
   "execution_count": 62,
   "metadata": {
    "collapsed": false
   },
   "outputs": [
    {
     "data": {
      "image/png": "[encoded data removed]",
      "text/plain": [
       "<matplotlib.figure.Figure at 0x10a3dedd8>"
      ]
     },
     "metadata": {},
     "output_type": "display_data"
    }
   ],
   "source": [
    "plt.hist(diff, range=(-100, 50), bins=50)\n",
    "plt.yscale('linear')\n",
    "plt.xlabel('Actual - Goal')\n",
    "plt.ylabel('$N$')\n",
    "plt.savefig('histogram')"
   ]
  },
  {
   "cell_type": "code",
   "execution_count": 63,
   "metadata": {
    "collapsed": false
   },
   "outputs": [
    {
     "name": "stdout",
     "output_type": "stream",
     "text": [
      "311_Service_Requests-Miami.csv  Untitled.ipynb                  histogram.png\r\n"
     ]
    }
   ],
   "source": [
    "%ls"
   ]
  },
  {
   "cell_type": "code",
   "execution_count": 65,
   "metadata": {
    "collapsed": true
   },
   "outputs": [],
   "source": [
    "n_good = np.sum(diff <= 0)\n",
    "n_bad = np.sum(diff > 0)\n",
    "n_tot = len(diff)"
   ]
  },
  {
   "cell_type": "code",
   "execution_count": 60,
   "metadata": {
    "collapsed": false
   },
   "outputs": [
    {
     "data": {
      "text/plain": [
       "(692904, 132925, 839365)"
      ]
     },
     "execution_count": 60,
     "metadata": {},
     "output_type": "execute_result"
    }
   ],
   "source": [
    "n_good, n_bad, n_tot"
   ]
  },
  {
   "cell_type": "code",
   "execution_count": 61,
   "metadata": {
    "collapsed": false
   },
   "outputs": [
    {
     "name": "stdout",
     "output_type": "stream",
     "text": [
      "Miami 311 meets their goal 82.6% of the time.\n"
     ]
    }
   ],
   "source": [
    "print(\"Miami 311 meets their goal {:.1f}% of the time.\".format(n_good/n_tot*100.0))"
   ]
  }
 ],
 "metadata": {
  "kernelspec": {
   "display_name": "Python 3",
   "language": "python",
   "name": "python3"
  },
  "language_info": {
   "codemirror_mode": {
    "name": "ipython",
    "version": 3
   },
   "file_extension": ".py",
   "mimetype": "text/x-python",
   "name": "python",
   "nbconvert_exporter": "python",
   "pygments_lexer": "ipython3",
   "version": "3.5.1"
  }
 },
 "nbformat": 4,
 "nbformat_minor": 0
}
